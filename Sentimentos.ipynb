{
 "cells": [
  {
   "cell_type": "markdown",
   "metadata": {},
   "source": [
    "# Transcritor"
   ]
  },
  {
   "cell_type": "code",
   "execution_count": 1,
   "metadata": {},
   "outputs": [
    {
     "name": "stderr",
     "output_type": "stream",
     "text": [
      "c:\\Users\\andre\\AppData\\Local\\Programs\\Python\\Python39\\lib\\site-packages\\requests\\__init__.py:102: RequestsDependencyWarning: urllib3 (1.26.7) or chardet (5.2.0)/charset_normalizer (2.0.7) doesn't match a supported version!\n",
      "  warnings.warn(\"urllib3 ({}) or chardet ({})/charset_normalizer ({}) doesn't match a supported \"\n"
     ]
    }
   ],
   "source": [
    "import speech_recognition as sr"
   ]
  },
  {
   "cell_type": "code",
   "execution_count": 2,
   "metadata": {},
   "outputs": [],
   "source": [
    "def ouvirMic():\n",
    "  # habilitar mic\n",
    "  microfone = sr.Recognizer()\n",
    "  print(\"Diga alguma coisa: \")\n",
    "  with sr.Microphone() as source:\n",
    "    # armazena o audio em texto\n",
    "    audio = microfone.listen(source)\n",
    "  try:\n",
    "    frase = microfone.recognize_google(audio, language=\"pt-BR\")\n",
    "    return frase\n",
    "  except sr.UnknownValueError:\n",
    "    print(\"Não entendi\")\n",
    "  return False"
   ]
  },
  {
   "cell_type": "code",
   "execution_count": null,
   "metadata": {},
   "outputs": [
    {
     "name": "stdout",
     "output_type": "stream",
     "text": [
      "Diga alguma coisa: \n",
      "Não entendi\n"
     ]
    },
    {
     "data": {
      "text/plain": [
       "False"
      ]
     },
     "execution_count": 4,
     "metadata": {},
     "output_type": "execute_result"
    }
   ],
   "source": [
    "# ouvirMic()"
   ]
  },
  {
   "cell_type": "markdown",
   "metadata": {},
   "source": [
    "# Analise de sentimentos  "
   ]
  },
  {
   "cell_type": "code",
   "execution_count": 3,
   "metadata": {},
   "outputs": [],
   "source": [
    "from transformers import pipeline"
   ]
  },
  {
   "cell_type": "code",
   "execution_count": 4,
   "metadata": {},
   "outputs": [],
   "source": [
    "def classification():\n",
    "  analise_sentimentos = pipeline(\"sentiment-analysis\", model=\"nlptown/bert-base-multilingual-uncased-sentiment\")\n",
    "  texto = ouvirMic()\n",
    "  print(texto)\n",
    "  propiedades = analise_sentimentos(texto)\n",
    "  if propiedades[0]['label'] == \"5 stars\": \n",
    "    return print(\"\\nALEGRE\\n⭐⭐⭐⭐⭐\")\n",
    "  elif propiedades[0]['label'] == \"4 stars\": \n",
    "    return print(\"\\nCONTENTE\\n⭐⭐⭐⭐\")\n",
    "  elif propiedades[0]['label'] == \"3 stars\": \n",
    "    return print(\"\\nNEUTRO\\n⭐⭐⭐\")\n",
    "  elif propiedades[0]['label'] == \"2 stars\": \n",
    "    return print(\"\\nTRISTE\\n⭐⭐\")\n",
    "  else: \n",
    "    return print(\"\\nDEPLORAVEL\\n⭐\")\n",
    "\n"
   ]
  },
  {
   "cell_type": "code",
   "execution_count": 12,
   "metadata": {},
   "outputs": [],
   "source": [
    "  # Python 3.10-3.12{\n",
    "    # match propiedades[0]['label']:\n",
    "    #   case \"5 stars\": \n",
    "    #     return print(\"ALEGRE\\n⭐⭐⭐⭐⭐\")\n",
    "    #   case \"4 stars\": \n",
    "    #     return print(\"CONTENTE\\n⭐⭐⭐⭐\")\n",
    "    #   case \"3 stars\": \n",
    "    #     return print(\"NEUTRO\\n⭐⭐⭐\")\n",
    "    #   case \"2 stars\": \n",
    "    #     return print(\"TRISTE\\n⭐⭐\")\n",
    "    #   case \"1 stars\": \n",
    "    #     return print(\"DEPLORAVEL\\n⭐\")\n",
    "    #   case _:\n",
    "    #     return print(\"ERRO NA CLASSIFICAÇÂO\")\n",
    "  # }"
   ]
  },
  {
   "cell_type": "markdown",
   "metadata": {},
   "source": [
    "# Resultado"
   ]
  },
  {
   "cell_type": "code",
   "execution_count": 6,
   "metadata": {},
   "outputs": [
    {
     "name": "stdout",
     "output_type": "stream",
     "text": [
      "Diga alguma coisa: \n",
      "hoje eu achei uma nota falsa de r$ 50\n",
      "\n",
      "DEPLORAVEL\n",
      "⭐\n"
     ]
    }
   ],
   "source": [
    "classification()"
   ]
  }
 ],
 "metadata": {
  "kernelspec": {
   "display_name": "Python 3",
   "language": "python",
   "name": "python3"
  },
  "language_info": {
   "codemirror_mode": {
    "name": "ipython",
    "version": 3
   },
   "file_extension": ".py",
   "mimetype": "text/x-python",
   "name": "python",
   "nbconvert_exporter": "python",
   "pygments_lexer": "ipython3",
   "version": "3.9.7"
  }
 },
 "nbformat": 4,
 "nbformat_minor": 2
}
